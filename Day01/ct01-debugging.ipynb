{
 "cells": [
  {
   "attachments": {},
   "cell_type": "markdown",
   "metadata": {},
   "source": [
    "### 코딩테스트 중 실수 네가지\n",
    "#### 결함있는 코드"
   ]
  },
  {
   "cell_type": "code",
   "execution_count": 8,
   "metadata": {},
   "outputs": [
    {
     "ename": "ValueError",
     "evalue": "invalid literal for int() with base 10: '1. 2'",
     "output_type": "error",
     "traceback": [
      "\u001b[1;31m---------------------------------------------------------------------------\u001b[0m",
      "\u001b[1;31mValueError\u001b[0m                                Traceback (most recent call last)",
      "Cell \u001b[1;32mIn[8], line 4\u001b[0m\n\u001b[0;32m      1\u001b[0m \u001b[39m# 배열의 주어진 범위의 합을 2로 나눈 몫을 구하세요.\u001b[39;00m\n\u001b[0;32m      2\u001b[0m \u001b[39mimport\u001b[39;00m \u001b[39mrandom\u001b[39;00m\n\u001b[1;32m----> 4\u001b[0m testcase \u001b[39m=\u001b[39m \u001b[39mint\u001b[39;49m(\u001b[39minput\u001b[39;49m())   \u001b[39m# 횟수\u001b[39;00m\n\u001b[0;32m      5\u001b[0m max_num \u001b[39m=\u001b[39m \u001b[39m100001\u001b[39m\n\u001b[0;32m      6\u001b[0m answer \u001b[39m=\u001b[39m \u001b[39m0\u001b[39m\n",
      "\u001b[1;31mValueError\u001b[0m: invalid literal for int() with base 10: '1. 2'"
     ]
    }
   ],
   "source": [
    "# 배열의 주어진 범위의 합을 2로 나눈 몫을 구하세요.\n",
    "import random\n",
    "\n",
    "testcase = int(input())   # 횟수\n",
    "max_num = 100001\n",
    "answer = 0\n",
    "A = [0] * max_num    # 10만개리스트\n",
    "\n",
    "for i in range(0, max_num):\n",
    "    A[i] = random.randrange(1, 101)    # 1만개만 1~100수를 채워넣기 /  2. 10001은 0개수 잘못 입력\n",
    "\n",
    "for t in range(1, testcase+1):\n",
    "    answer = 0                         # 1. 초기화 문제 해결\n",
    "    start, end = map(int, input().split())\n",
    "\n",
    "    for i in range(start, end+1):\n",
    "        answer = answer + A[i]\n",
    "\n",
    "        #print(str(testcase) = \" \" + str(answer/2))\n",
    "    # 4. 결과값이 정수로 나올려면 /대신 //로 변경\n",
    "    print(f'{t} = {answer//2}')   # 3. testcase -> t로 변경"
   ]
  },
  {
   "attachments": {},
   "cell_type": "markdown",
   "metadata": {},
   "source": [
    "### 예외 1\n",
    "answer 초기화를 안함\n",
    "\n",
    "### 예외 2\n",
    "배열 범위를 잘못 입력\n",
    "\n",
    "### 예외 3\n",
    "변수를 잘못 사용 -> 결과가 다르게 나옴\n",
    "\n",
    "### 예외 4\n",
    "형변환 때문에 실수로 나온 것(나누기 연산자)"
   ]
  }
 ],
 "metadata": {
  "kernelspec": {
   "display_name": "Python 3",
   "language": "python",
   "name": "python3"
  },
  "language_info": {
   "codemirror_mode": {
    "name": "ipython",
    "version": 3
   },
   "file_extension": ".py",
   "mimetype": "text/x-python",
   "name": "python",
   "nbconvert_exporter": "python",
   "pygments_lexer": "ipython3",
   "version": "3.11.1"
  },
  "orig_nbformat": 4,
  "vscode": {
   "interpreter": {
    "hash": "a3d8f53f1429d27b792a3789224562ddd32c1395c9a9cfbb17b3c19c3b9a493d"
   }
  }
 },
 "nbformat": 4,
 "nbformat_minor": 2
}
