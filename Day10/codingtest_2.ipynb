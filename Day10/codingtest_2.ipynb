{
 "cells": [
  {
   "cell_type": "code",
   "execution_count": 5,
   "metadata": {},
   "outputs": [],
   "source": [
    "front = rear = -1\n",
    "\n",
    "def solution(cards1, cards2, goal):\n",
    "\n",
    "    cards1 = [None for _ in range(3)]\n",
    "\n",
    "    rear += 1\n",
    "    cards1[rear] = 'i'\n",
    "    rear += 1\n",
    "    cards1[rear] = 'drink'\n",
    "    rear += 1\n",
    "    cards1[rear] = 'water'\n",
    "\n",
    "\n",
    "    cards2 = [None for _ in range(2)]\n",
    "    front, rear = -1, -1\n",
    "\n",
    "    rear += 1\n",
    "    cards2[rear] = 'want'\n",
    "    rear += 1\n",
    "    cards2[rear] = 'to'\n",
    "\n",
    "    print('cards1')\n",
    "    for i in range(0, len(cards1)):\n",
    "        print(cards1[i], end=' , ')\n",
    "\n",
    "\n"
   ]
  },
  {
   "cell_type": "code",
   "execution_count": null,
   "metadata": {},
   "outputs": [],
   "source": [
    "def solution1(cards1, cards2, goal):\n",
    "    answer = ''\n",
    "    return answer\n",
    "\n",
    "cards1 = [\"i\", \"drink\", \"water\"]\n",
    "cards2 = [\"want\", \"to\"]\n",
    "goal = [\"i\", \"want\", \"to\", \"drink\", \"water\"]\n",
    "\n",
    "print(solution1(cards1, cards2, goal)) # return Yes\n",
    "\n",
    "cards1 = [\"i\", \"water\", \"drink\"]\n",
    "cards2 = [\"want\", \"to\"]\n",
    "goal = [\"i\", \"want\", \"to\", \"drink\", \"water\"]\n",
    "\n",
    "print(solution1(cards1, cards2, goal)) # return No"
   ]
  },
  {
   "cell_type": "code",
   "execution_count": 4,
   "metadata": {},
   "outputs": [],
   "source": [
    "def solution(cards1, cards2, goal):\n",
    "    \n",
    "    words = []\n",
    "\n",
    "    for card in [cards1, cards2]:\n",
    "        for word in card:\n",
    "            words.append(word)\n",
    "    if words == goal:\n",
    "        return \"yes\"\n",
    "    else:\n",
    "        return \"no\""
   ]
  }
 ],
 "metadata": {
  "kernelspec": {
   "display_name": "Python 3",
   "language": "python",
   "name": "python3"
  },
  "language_info": {
   "codemirror_mode": {
    "name": "ipython",
    "version": 3
   },
   "file_extension": ".py",
   "mimetype": "text/x-python",
   "name": "python",
   "nbconvert_exporter": "python",
   "pygments_lexer": "ipython3",
   "version": "3.11.1"
  },
  "orig_nbformat": 4,
  "vscode": {
   "interpreter": {
    "hash": "a3d8f53f1429d27b792a3789224562ddd32c1395c9a9cfbb17b3c19c3b9a493d"
   }
  }
 },
 "nbformat": 4,
 "nbformat_minor": 2
}
