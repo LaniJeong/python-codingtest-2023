{
 "cells": [
  {
   "cell_type": "markdown",
   "metadata": {},
   "source": [
    "## 재귀호출(Recursive Call)"
   ]
  },
  {
   "cell_type": "code",
   "execution_count": 1,
   "metadata": {},
   "outputs": [],
   "source": [
    "def openBox():\n",
    "    print('종이상자를 엽니다.')\n",
    "    openBox()   # 자기자신을 다시 호출\n",
    "    "
   ]
  },
  {
   "cell_type": "code",
   "execution_count": null,
   "metadata": {},
   "outputs": [],
   "source": [
    "openBox()"
   ]
  },
  {
   "cell_type": "code",
   "execution_count": 6,
   "metadata": {},
   "outputs": [
    {
     "name": "stdout",
     "output_type": "stream",
     "text": [
      "종이상자를 엽니다.\n",
      "종이상자를 엽니다.\n",
      "종이상자를 엽니다.\n",
      "종이상자를 엽니다.\n",
      "종이상자를 엽니다.\n",
      "종이상자를 엽니다.\n",
      "종이상자를 엽니다.\n",
      "종이상자를 엽니다.\n",
      "종이상자를 엽니다.\n",
      "종이상자를 엽니다.\n",
      "반지를 넣고 반환합니다*****\n",
      "종이 상자를 닫습니다.\n",
      "종이 상자를 닫습니다.\n",
      "종이 상자를 닫습니다.\n",
      "종이 상자를 닫습니다.\n",
      "종이 상자를 닫습니다.\n",
      "종이 상자를 닫습니다.\n",
      "종이 상자를 닫습니다.\n",
      "종이 상자를 닫습니다.\n",
      "종이 상자를 닫습니다.\n"
     ]
    }
   ],
   "source": [
    "count = 10\n",
    "\n",
    "def openBox():\n",
    "    global count\n",
    "    print('종이상자를 엽니다.')\n",
    "    count -= 1\n",
    "    if count == 0:\n",
    "        print('반지를 넣고 반환합니다*****')\n",
    "        return\n",
    "        \n",
    "    openBox()   # 자기자신을 다시 호출\n",
    "    print('종이 상자를 닫습니다.')\n",
    "\n",
    "openBox()\n",
    "\n"
   ]
  },
  {
   "cell_type": "code",
   "execution_count": 11,
   "metadata": {},
   "outputs": [
    {
     "name": "stdout",
     "output_type": "stream",
     "text": [
      "종이상자를 엽니다.\n",
      "종이상자를 엽니다.\n",
      "종이상자를 엽니다.\n",
      "종이상자를 엽니다.\n",
      "종이상자를 엽니다.\n",
      "종이상자를 엽니다.\n",
      "종이상자를 엽니다.\n",
      "종이상자를 엽니다.\n",
      "종이상자를 엽니다.\n",
      "종이상자를 엽니다.\n",
      "반지를 넣고 반환합니다*****\n",
      "종이 상자를 닫습니다.\n",
      "종이 상자를 닫습니다.\n",
      "종이 상자를 닫습니다.\n",
      "종이 상자를 닫습니다.\n",
      "종이 상자를 닫습니다.\n",
      "종이 상자를 닫습니다.\n",
      "종이 상자를 닫습니다.\n",
      "종이 상자를 닫습니다.\n",
      "종이 상자를 닫습니다.\n"
     ]
    }
   ],
   "source": [
    "openBox()"
   ]
  },
  {
   "attachments": {},
   "cell_type": "markdown",
   "metadata": {},
   "source": [
    "## 재귀호출 하지않고 반복문으로 계산"
   ]
  },
  {
   "cell_type": "code",
   "execution_count": 16,
   "metadata": {},
   "outputs": [
    {
     "name": "stdout",
     "output_type": "stream",
     "text": [
      "10+9+8+...+1 =  55\n"
     ]
    }
   ],
   "source": [
    "sumValue = 0\n",
    "\n",
    "for n in range(10, 0, -1):\n",
    "    sumValue += n\n",
    "\n",
    "print('10+9+8+...+1 = ', sumValue)"
   ]
  },
  {
   "attachments": {},
   "cell_type": "markdown",
   "metadata": {},
   "source": [
    "재귀호출로 덧셈"
   ]
  },
  {
   "cell_type": "code",
   "execution_count": 17,
   "metadata": {},
   "outputs": [
    {
     "name": "stdout",
     "output_type": "stream",
     "text": [
      "6\n"
     ]
    }
   ],
   "source": [
    "def addNumber(num):\n",
    "    if num <= 1:\n",
    "        return 1\n",
    "    else:\n",
    "        return num + addNumber(num - 1)\n",
    "    \n",
    "print(addNumber(3))"
   ]
  },
  {
   "attachments": {},
   "cell_type": "markdown",
   "metadata": {},
   "source": [
    "### 팩토리얼 반복문"
   ]
  },
  {
   "cell_type": "code",
   "execution_count": 22,
   "metadata": {},
   "outputs": [
    {
     "name": "stdout",
     "output_type": "stream",
     "text": [
      "10*9*8*...*2*1 = 3628800\n"
     ]
    }
   ],
   "source": [
    "factValue = 1\n",
    "for n in range(10, 0, -1):\n",
    "    factValue *= n\n",
    "\n",
    "print('10*9*8*...*2*1 =', factValue)"
   ]
  },
  {
   "attachments": {},
   "cell_type": "markdown",
   "metadata": {},
   "source": [
    "### 팩토리얼 재귀호출"
   ]
  },
  {
   "cell_type": "code",
   "execution_count": 30,
   "metadata": {},
   "outputs": [
    {
     "name": "stdout",
     "output_type": "stream",
     "text": [
      "10! =  120\n"
     ]
    }
   ],
   "source": [
    "def factorial(num):\n",
    "    if num <= 1:\n",
    "        return 1\n",
    "    else:\n",
    "        return num * factorial(num-1)\n",
    "    \n",
    "print('10! = ', factorial(5))\n"
   ]
  },
  {
   "attachments": {},
   "cell_type": "markdown",
   "metadata": {},
   "source": [
    "### 우주선 발사"
   ]
  },
  {
   "cell_type": "code",
   "execution_count": 27,
   "metadata": {},
   "outputs": [
    {
     "name": "stdout",
     "output_type": "stream",
     "text": [
      "5\n",
      "4\n",
      "3\n",
      "2\n",
      "1\n",
      "우주선 발사\n"
     ]
    }
   ],
   "source": [
    "def countdown(n):\n",
    "    if n == 0:\n",
    "        print('우주선 발사')\n",
    "    else:\n",
    "        print(n)\n",
    "       # time.sleep(1)\n",
    "        countdown(n-1)\n",
    "\n",
    "countdown(5)\n",
    "\n"
   ]
  },
  {
   "cell_type": "code",
   "execution_count": 28,
   "metadata": {},
   "outputs": [
    {
     "name": "stdout",
     "output_type": "stream",
     "text": [
      "❤\n",
      "❤❤\n",
      "❤❤❤\n",
      "❤❤❤❤\n",
      "❤❤❤❤❤\n"
     ]
    }
   ],
   "source": [
    "def printStar(n):\n",
    "    if n > 0:\n",
    "        printStar(n-1)\n",
    "        print('❤' * n)\n",
    "\n",
    "printStar(5)"
   ]
  },
  {
   "attachments": {},
   "cell_type": "markdown",
   "metadata": {},
   "source": [
    "### 구구단"
   ]
  },
  {
   "cell_type": "code",
   "execution_count": null,
   "metadata": {},
   "outputs": [],
   "source": [
    "def gugudan(dan, num):\n",
    "    print(f'{dan} X {num} = {dan*num:2d}')\n",
    "    if num < 9:\n",
    "        gugudan(dan, num+1)\n",
    "\n",
    "for dan in range(2, 10):\n",
    "    print(f'(-{dan}단 시작-)')\n",
    "    gugudan(dan, 1)"
   ]
  },
  {
   "attachments": {},
   "cell_type": "markdown",
   "metadata": {},
   "source": [
    "N 제곱"
   ]
  },
  {
   "cell_type": "code",
   "execution_count": 3,
   "metadata": {},
   "outputs": [
    {
     "name": "stdout",
     "output_type": "stream",
     "text": [
      "2^10\n",
      "  2x2^10-1\n",
      "   2x2^9-1\n",
      "    2x2^8-1\n",
      "     2x2^7-1\n",
      "      2x2^6-1\n",
      "       2x2^5-1\n",
      "        2x2^4-1\n",
      "         2x2^3-1\n",
      "          2x2^2-1\n",
      "           2x2^1-1\n",
      "답 -->  1024\n"
     ]
    }
   ],
   "source": [
    "tab = ''\n",
    "def pow(x, n):\n",
    "    global tab\n",
    "    tab += ' '\n",
    "    if n == 0:\n",
    "        return 1\n",
    "    print(tab, f'{x}x{x}^{n}-{1}')\n",
    "    return x * pow(x, n-1)\n",
    "\n",
    "print('2^10')\n",
    "print('답 --> ', pow(2, 10))\n"
   ]
  },
  {
   "attachments": {},
   "cell_type": "markdown",
   "metadata": {},
   "source": [
    "피보나치 수열"
   ]
  },
  {
   "cell_type": "code",
   "execution_count": 5,
   "metadata": {},
   "outputs": [
    {
     "name": "stdout",
     "output_type": "stream",
     "text": [
      "피보나치 수 --> 0 1 1 2 3 5 8 13 21 34 "
     ]
    }
   ],
   "source": [
    "def fibonacci(n):\n",
    "    if n == 0: return 0\n",
    "    elif n == 1: return 1\n",
    "    else:\n",
    "        return fibonacci(n-1) + fibonacci(n-2)\n",
    "    \n",
    "print('피보나치 수 --> 0 1', end=' ')\n",
    "for i in range(2, 10):\n",
    "    print(fibonacci(i), end=' ')"
   ]
  },
  {
   "attachments": {},
   "cell_type": "markdown",
   "metadata": {},
   "source": [
    "### 회문 여부"
   ]
  },
  {
   "cell_type": "code",
   "execution_count": 7,
   "metadata": {},
   "outputs": [
    {
     "data": {
      "text/plain": [
       "'l'"
      ]
     },
     "execution_count": 7,
     "metadata": {},
     "output_type": "execute_result"
    }
   ],
   "source": [
    "a = 'Hello'\n",
    "\n",
    "a[-2]"
   ]
  },
  {
   "cell_type": "code",
   "execution_count": 13,
   "metadata": {},
   "outputs": [
    {
     "data": {
      "text/plain": [
       "'ayak'"
      ]
     },
     "execution_count": 13,
     "metadata": {},
     "output_type": "execute_result"
    }
   ],
   "source": [
    "def palindrome(pStr):          # kayak\n",
    "    if len(pStr) <= 1:\n",
    "        return\n",
    "    \n",
    "    if pStr[0] != pStr[-1]:   # k == k / 뒤에서 읽을때는 -1부터 앞에서는 0부터\n",
    "        return False\n",
    "    else:\n",
    "        return palindrome(pStr[1:len(pStr)-1])\n",
    "\n",
    "a = 'kayak'\n",
    "a[1:len(a)-1]           # 2번째(1) 부터 뒤에서 1번째\n",
    "\n"
   ]
  },
  {
   "cell_type": "code",
   "execution_count": 11,
   "metadata": {},
   "outputs": [],
   "source": [
    "strAry = ['rever', 'kayak', 'Borrow or rob', '주유소의 소유주', \n",
    "          '야 너 이번 주 주번이 너야', '뒹굴 뒹굴']\n"
   ]
  },
  {
   "cell_type": "code",
   "execution_count": 12,
   "metadata": {},
   "outputs": [
    {
     "name": "stdout",
     "output_type": "stream",
     "text": [
      "rever--> 회문아니오\n",
      "kayak--> 회문아니오\n",
      "Borrow or rob--> 회문아니오\n",
      "주유소의 소유주--> 회문아니오\n",
      "야 너 이번 주 주번이 너야--> 회문아니오\n",
      "뒹굴 뒹굴--> 회문아니오\n"
     ]
    }
   ],
   "source": [
    "for testStr in strAry:\n",
    "    print(testStr, end='--> ')\n",
    "    testStr = testStr.lower().replace(' ', '')   # 영어대문자X,  공백X\n",
    "    if palindrome(testStr) == True:\n",
    "        print('회문입니다')\n",
    "    else:\n",
    "        print('회문아니오')"
   ]
  }
 ],
 "metadata": {
  "kernelspec": {
   "display_name": "Python 3",
   "language": "python",
   "name": "python3"
  },
  "language_info": {
   "codemirror_mode": {
    "name": "ipython",
    "version": 3
   },
   "file_extension": ".py",
   "mimetype": "text/x-python",
   "name": "python",
   "nbconvert_exporter": "python",
   "pygments_lexer": "ipython3",
   "version": "3.11.1"
  },
  "orig_nbformat": 4,
  "vscode": {
   "interpreter": {
    "hash": "a3d8f53f1429d27b792a3789224562ddd32c1395c9a9cfbb17b3c19c3b9a493d"
   }
  }
 },
 "nbformat": 4,
 "nbformat_minor": 2
}
