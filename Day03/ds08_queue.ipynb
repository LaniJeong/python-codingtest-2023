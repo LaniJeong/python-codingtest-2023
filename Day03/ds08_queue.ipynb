{
 "cells": [
  {
   "attachments": {},
   "cell_type": "markdown",
   "metadata": {},
   "source": [
    "### 큐 학습"
   ]
  },
  {
   "cell_type": "code",
   "execution_count": 4,
   "metadata": {},
   "outputs": [],
   "source": [
    "queue = [None for _ in range(6)]\n",
    "\n",
    "front, rear = -1, -1   # front = rear = -1"
   ]
  },
  {
   "attachments": {},
   "cell_type": "markdown",
   "metadata": {},
   "source": [
    "### 데이터 삽입(enQueue)"
   ]
  },
  {
   "cell_type": "code",
   "execution_count": 5,
   "metadata": {},
   "outputs": [],
   "source": [
    "rear += 1\n",
    "queue[rear] = '셔누'\n",
    "rear += 1\n",
    "queue[rear] = '민혁'\n",
    "rear += 1\n",
    "queue[rear] = '기현'"
   ]
  },
  {
   "cell_type": "code",
   "execution_count": 6,
   "metadata": {},
   "outputs": [
    {
     "name": "stdout",
     "output_type": "stream",
     "text": [
      "-- 큐상태 --\n",
      "[출구] <- 셔누 <- 민혁 <- 기현 <- None <- None <- None <- [입구]\n"
     ]
    }
   ],
   "source": [
    "print('-- 큐상태 --')\n",
    "print('[출구]', end=' <- ')\n",
    "for i in range(0, len(queue)):\n",
    "    print(queue[i], end=' <- ')\n",
    "print('[입구]')"
   ]
  },
  {
   "attachments": {},
   "cell_type": "markdown",
   "metadata": {},
   "source": [
    "### 데이터 추출(deQueue)"
   ]
  },
  {
   "cell_type": "code",
   "execution_count": 7,
   "metadata": {},
   "outputs": [
    {
     "name": "stdout",
     "output_type": "stream",
     "text": [
      "deQueue -> 셔누\n"
     ]
    }
   ],
   "source": [
    "front += 1\n",
    "data = queue[front]\n",
    "queue[front] = None\n",
    "print(f'deQueue -> {data}')"
   ]
  },
  {
   "cell_type": "code",
   "execution_count": 8,
   "metadata": {},
   "outputs": [
    {
     "name": "stdout",
     "output_type": "stream",
     "text": [
      "-- 큐상태 --\n",
      "[출구] <- None <- 민혁 <- 기현 <- None <- None <- None <- [입구]\n"
     ]
    }
   ],
   "source": [
    "print('-- 큐상태 --')\n",
    "print('[출구]', end=' <- ')\n",
    "for i in range(0, len(queue)):\n",
    "    print(queue[i], end=' <- ')\n",
    "print('[입구]')"
   ]
  },
  {
   "cell_type": "code",
   "execution_count": 9,
   "metadata": {},
   "outputs": [
    {
     "name": "stdout",
     "output_type": "stream",
     "text": [
      "deQueue -> 민혁\n",
      "deQueue -> 기현\n"
     ]
    }
   ],
   "source": [
    "front += 1\n",
    "data = queue[front]\n",
    "queue[front] = None\n",
    "print(f'deQueue -> {data}')\n",
    "\n",
    "front += 1\n",
    "data = queue[front]\n",
    "queue[front] = None\n",
    "print(f'deQueue -> {data}')"
   ]
  },
  {
   "cell_type": "code",
   "execution_count": 10,
   "metadata": {},
   "outputs": [
    {
     "name": "stdout",
     "output_type": "stream",
     "text": [
      "-- 큐상태 --\n",
      "[출구] <- None <- None <- None <- None <- None <- None <- [입구]\n"
     ]
    }
   ],
   "source": [
    "print('-- 큐상태 --')\n",
    "print('[출구]', end=' <- ')\n",
    "for i in range(0, len(queue)):\n",
    "    print(queue[i], end=' <- ')\n",
    "print('[입구]')"
   ]
  }
 ],
 "metadata": {
  "kernelspec": {
   "display_name": "Python 3",
   "language": "python",
   "name": "python3"
  },
  "language_info": {
   "codemirror_mode": {
    "name": "ipython",
    "version": 3
   },
   "file_extension": ".py",
   "mimetype": "text/x-python",
   "name": "python",
   "nbconvert_exporter": "python",
   "pygments_lexer": "ipython3",
   "version": "3.11.1"
  },
  "orig_nbformat": 4,
  "vscode": {
   "interpreter": {
    "hash": "a3d8f53f1429d27b792a3789224562ddd32c1395c9a9cfbb17b3c19c3b9a493d"
   }
  }
 },
 "nbformat": 4,
 "nbformat_minor": 2
}
