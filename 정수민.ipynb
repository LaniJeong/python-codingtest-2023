{
 "cells": [
  {
   "attachments": {},
   "cell_type": "markdown",
   "metadata": {},
   "source": [
    "## 1번 문제\n",
    "\n",
    "프로그래머스 Lev1. 카드 뭉치 "
   ]
  },
  {
   "cell_type": "code",
   "execution_count": 1,
   "metadata": {},
   "outputs": [
    {
     "name": "stdout",
     "output_type": "stream",
     "text": [
      "Yes\n",
      "No\n"
     ]
    }
   ],
   "source": [
    "from collections import deque\n",
    "\n",
    "def solution1(cards1, cards2, goal):\n",
    "    cards1_q = deque(list(cards1))\n",
    "    cards2_q = deque(list(cards2))\n",
    "\n",
    "    for word in goal:\n",
    "            if cards1_q and cards1_q[0] == word:\n",
    "                cards1_q.popleft()\n",
    "            elif cards2_q and cards2_q[0] == word:\n",
    "                cards2_q.popleft()\n",
    "            else:\n",
    "                return 'No'\n",
    "\n",
    "    return 'Yes'\n",
    "\n",
    "cards1 = [\"i\", \"drink\", \"water\"]\n",
    "cards2 = [\"want\", \"to\"]\n",
    "goal = [\"i\", \"want\", \"to\", \"drink\", \"water\"]\n",
    "\n",
    "print(solution1(cards1, cards2, goal)) # return Yes\n",
    "\n",
    "cards1 = [\"i\", \"water\", \"drink\"]\n",
    "cards2 = [\"want\", \"to\"]\n",
    "goal = [\"i\", \"want\", \"to\", \"drink\", \"water\"]\n",
    "\n",
    "print(solution1(cards1, cards2, goal)) # return No"
   ]
  },
  {
   "cell_type": "code",
   "execution_count": 6,
   "metadata": {},
   "outputs": [
    {
     "name": "stdout",
     "output_type": "stream",
     "text": [
      "No\n",
      "No\n"
     ]
    }
   ],
   "source": [
    "def solution(cards1, cards2, goal):\n",
    "    answer = 'Yes'\n",
    "    index1, index2 = 0, 0\n",
    "\n",
    "    for word in goal:\n",
    "        # ['i', 'want', 'to', 'drink', 'water']와 같은 단어가\n",
    "        # cards1 안에 있다\n",
    "        if word < len(cards1): \n",
    "            if word == cards1[index1]:\n",
    "                index1 += 1\n",
    "            index1 += 1\n",
    "        elif index2 < len(cards2):\n",
    "            if word == cards2[index2]:\n",
    "                index2 += 1\n",
    "        else:\n",
    "            answer = 'No'\n",
    "            break\n",
    "\n",
    "    return answer\n",
    "\n",
    "cards1 = ['i', 'drink', 'water']\n",
    "cards2 = ['wnat', 'to']\n",
    "goal = ['i', 'want', 'to', 'drink', 'water']\n",
    "\n",
    "print(solution1(cards1, cards2, goal)) # return Yes\n",
    "\n",
    "cards1 = [\"i\", \"water\", \"drink\"]\n",
    "cards2 = [\"want\", \"to\"]\n",
    "goal = [\"i\", \"want\", \"to\", \"drink\", \"water\"]\n",
    "\n",
    "print(solution1(cards1, cards2, goal)) # return No"
   ]
  },
  {
   "attachments": {},
   "cell_type": "markdown",
   "metadata": {},
   "source": [
    "## 2번 문제\n",
    "\n",
    "프로그래머스 Lev1. 체육복"
   ]
  },
  {
   "cell_type": "code",
   "execution_count": 3,
   "metadata": {},
   "outputs": [
    {
     "name": "stdout",
     "output_type": "stream",
     "text": [
      "5\n",
      "4\n",
      "2\n"
     ]
    }
   ],
   "source": [
    "def solution2(n, lost, reserve):\n",
    "    set_reserve = set(reserve) - set(lost)\n",
    "    set_lost = set(lost) - set(reserve)\n",
    "    for i in set_reserve:\n",
    "        pre = i-1\n",
    "        nex = i+1\n",
    "        if pre in set_lost:\n",
    "            set_lost.remove(pre)\n",
    "        elif nex in set_lost:\n",
    "            set_lost.remove(nex)\n",
    "    return n - len(set_lost)  \n",
    "\n",
    "\n",
    "n = 5\n",
    "lost = [2, 4]\n",
    "reserve = [1,3,5]\n",
    "\n",
    "print(solution2(n, lost, reserve)) # return 5\n",
    "\n",
    "\n",
    "n = 5\n",
    "lost = [2, 4]\n",
    "reserve = [3]\n",
    "\n",
    "print(solution2(n, lost, reserve)) # return 4\n",
    "\n",
    "\n",
    "n = 3\n",
    "lost = [3]\n",
    "reserve = [1]\n",
    "\n",
    "print(solution2(n, lost, reserve)) # return 2"
   ]
  },
  {
   "cell_type": "code",
   "execution_count": 5,
   "metadata": {},
   "outputs": [
    {
     "name": "stdout",
     "output_type": "stream",
     "text": [
      "5\n",
      "4\n",
      "2\n"
     ]
    }
   ],
   "source": [
    "def solution(n, lost, reserve):\n",
    "    answer = 0\n",
    "    reserved = set(reserve)         # - seet(lost)   : 여벌옷 가져온 학생에서 - 체육복없는 학생\n",
    "    losted = set(lost)              # - set(reserve) : 체육복 없는 학생 - 여벌가져온 학생\n",
    "\n",
    "    for i in reserved:\n",
    "        if i - 1 in losted:\n",
    "            losted.remove(i-1)      # 왼쪽 학생에게 옷을 빌려줘\n",
    "        elif i + 1 in losted:\n",
    "            losted.remove(i+1)      # 오른쪽 학생에게 옷을 빌려줘\n",
    "    answer = n - len(losted)        # 체육복이 없는 남은 학생수\n",
    "    return answer\n",
    "\n",
    "n= 5\n",
    "lost = [2, 4]\n",
    "reserve = [1, 3, 5]\n",
    "print(solution(n, lost, reserve))   # return 5\n",
    "\n",
    "n= 5\n",
    "lost = [2, 4]\n",
    "reserve = [3]\n",
    "print(solution(n, lost, reserve))   # return 4\n",
    "\n",
    "n= 3\n",
    "lost = [3]\n",
    "reserve = [1]\n",
    "print(solution(n, lost, reserve))   # return 5"
   ]
  }
 ],
 "metadata": {
  "kernelspec": {
   "display_name": "Python 3",
   "language": "python",
   "name": "python3"
  },
  "language_info": {
   "codemirror_mode": {
    "name": "ipython",
    "version": 3
   },
   "file_extension": ".py",
   "mimetype": "text/x-python",
   "name": "python",
   "nbconvert_exporter": "python",
   "pygments_lexer": "ipython3",
   "version": "3.11.1"
  },
  "orig_nbformat": 4,
  "vscode": {
   "interpreter": {
    "hash": "a3d8f53f1429d27b792a3789224562ddd32c1395c9a9cfbb17b3c19c3b9a493d"
   }
  }
 },
 "nbformat": 4,
 "nbformat_minor": 2
}
