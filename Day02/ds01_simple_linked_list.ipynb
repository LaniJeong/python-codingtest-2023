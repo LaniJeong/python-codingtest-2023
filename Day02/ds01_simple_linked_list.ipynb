{
 "cells": [
  {
   "attachments": {},
   "cell_type": "markdown",
   "metadata": {},
   "source": [
    "## 단순 연결 리스트\n",
    "### 노드 생성"
   ]
  },
  {
   "cell_type": "code",
   "execution_count": 166,
   "metadata": {},
   "outputs": [],
   "source": [
    "class Node:\n",
    "    def __init__(self) -> None:\n",
    "        self.data = None  # 현재 값\n",
    "        self.link = None  # 다음 노드가리킴\n",
    "    \n",
    "    def __str__(self) -> str:\n",
    "        return f'{self.data}'"
   ]
  },
  {
   "attachments": {},
   "cell_type": "markdown",
   "metadata": {},
   "source": [
    "### 첫번째 노드 생성"
   ]
  },
  {
   "cell_type": "code",
   "execution_count": 167,
   "metadata": {},
   "outputs": [
    {
     "name": "stdout",
     "output_type": "stream",
     "text": [
      "셔누\n"
     ]
    }
   ],
   "source": [
    "node1 = Node()\n",
    "node1.data = '셔누'\n",
    "\n",
    "print(node1)\n"
   ]
  },
  {
   "attachments": {},
   "cell_type": "markdown",
   "metadata": {},
   "source": [
    "### 두번째 노드 생성"
   ]
  },
  {
   "cell_type": "code",
   "execution_count": 168,
   "metadata": {},
   "outputs": [
    {
     "name": "stdout",
     "output_type": "stream",
     "text": [
      "민혁\n"
     ]
    }
   ],
   "source": [
    "node2 = Node()\n",
    "node2.data = '민혁'\n",
    "node1.link = node2      # 1번 노드의 링크에 두번째 노드를 연결\n",
    "\n",
    "print(node2)"
   ]
  },
  {
   "attachments": {},
   "cell_type": "markdown",
   "metadata": {},
   "source": [
    "### 3번 노드"
   ]
  },
  {
   "cell_type": "code",
   "execution_count": 169,
   "metadata": {},
   "outputs": [],
   "source": [
    "node3 = Node()\n",
    "node3.data = '기현'\n",
    "node2.link = node3\n",
    "\n",
    "node4 = Node()\n",
    "node4.data = '형원'\n",
    "node3.link = node4\n",
    "\n",
    "node5 = Node()\n",
    "node5.data = '주헌'\n",
    "node4.link = node5\n",
    "\n",
    "node6 = Node()\n",
    "node6.data = '아이엠'\n",
    "node5.link = node6"
   ]
  },
  {
   "attachments": {},
   "cell_type": "markdown",
   "metadata": {},
   "source": [
    "#### 연결리스트 출력"
   ]
  },
  {
   "cell_type": "code",
   "execution_count": 170,
   "metadata": {},
   "outputs": [
    {
     "name": "stdout",
     "output_type": "stream",
     "text": [
      "셔누 -> 민혁 -> 기현 -> 형원 -> 주헌 -> 아이엠\n"
     ]
    }
   ],
   "source": [
    "print(node1.data, end=' -> ')\n",
    "print(node1.link.data, end=' -> ')                  # node2.data\n",
    "print(node1.link.link.data, end=' -> ')             # node3.data\n",
    "print(node1.link.link.link.data, end=' -> ')        # node4.data\n",
    "print(node1.link.link.link.link.data, end=' -> ')   # node5.data\n",
    "print(node1.link.link.link.link.link.data)          # node6.data\n"
   ]
  },
  {
   "cell_type": "code",
   "execution_count": 171,
   "metadata": {},
   "outputs": [
    {
     "name": "stdout",
     "output_type": "stream",
     "text": [
      "셔누, 민혁, 기현, 형원, 주헌, 아이엠\n"
     ]
    }
   ],
   "source": [
    "print(node1.data, end=', ')         # node1.data\n",
    "print(node2.data, end=', ')         # node2.data\n",
    "print(node3.data, end=', ')         # node3.data\n",
    "print(node4.data, end=', ')         # node4.data\n",
    "print(node5.data, end=', ')         # node5.data\n",
    "print(node6.data)                   # node6.data\n"
   ]
  },
  {
   "cell_type": "code",
   "execution_count": 180,
   "metadata": {},
   "outputs": [
    {
     "name": "stdout",
     "output_type": "stream",
     "text": [
      "셔누 -> 민혁 -> 덕준 -> 형원 -> 주헌 -> 아이엠\n"
     ]
    }
   ],
   "source": [
    "current = node1\n",
    "print(current.data, end=' -> ')\n",
    "while current.link != None:\n",
    "    current = current.link\n",
    "    if current.link == None:\n",
    "        print(current.data)      # 뒤에 연결링크가 없으면(마지막 노드) end=' -> ' 삭제\n",
    "    else:\n",
    "        print(current.data, end=' -> ')"
   ]
  },
  {
   "attachments": {},
   "cell_type": "markdown",
   "metadata": {},
   "source": [
    "#### 연결리스트에 새 노드 삽입"
   ]
  },
  {
   "cell_type": "code",
   "execution_count": 177,
   "metadata": {},
   "outputs": [],
   "source": [
    "newNode = Node()\n",
    "newNode.data = '덕준'\n",
    "newNode.link = node2.link   # node3: kihyun\n",
    "node2.link = newNode\n"
   ]
  },
  {
   "attachments": {},
   "cell_type": "markdown",
   "metadata": {},
   "source": [
    "### 노드 삭제"
   ]
  },
  {
   "cell_type": "code",
   "execution_count": 174,
   "metadata": {},
   "outputs": [],
   "source": [
    "node2.link = node3.link   # node4:h.one"
   ]
  },
  {
   "attachments": {},
   "cell_type": "markdown",
   "metadata": {},
   "source": [
    "삭제가능하지만 메모리상의 노드는 남아있음"
   ]
  },
  {
   "cell_type": "code",
   "execution_count": 179,
   "metadata": {},
   "outputs": [],
   "source": [
    "del(node3)  # 노드 완전 삭제"
   ]
  }
 ],
 "metadata": {
  "kernelspec": {
   "display_name": "Python 3",
   "language": "python",
   "name": "python3"
  },
  "language_info": {
   "codemirror_mode": {
    "name": "ipython",
    "version": 3
   },
   "file_extension": ".py",
   "mimetype": "text/x-python",
   "name": "python",
   "nbconvert_exporter": "python",
   "pygments_lexer": "ipython3",
   "version": "3.11.1"
  },
  "orig_nbformat": 4,
  "vscode": {
   "interpreter": {
    "hash": "a3d8f53f1429d27b792a3789224562ddd32c1395c9a9cfbb17b3c19c3b9a493d"
   }
  }
 },
 "nbformat": 4,
 "nbformat_minor": 2
}
